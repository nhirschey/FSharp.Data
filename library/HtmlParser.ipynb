
        {
            "cells": [
          {
           "cell_type": "code",
           "metadata": {},
            "execution_count": null, "outputs": [], 
           "source": ["#r \"nuget: FSharp.Data,3.3.3\"\n",
"\n",
"Formatter.SetPreferredMimeTypeFor(typeof\u003cobj\u003e, \"text/plain\")\n",
"Formatter.Register(fun (x:obj) (writer: TextWriter) -\u003e fprintfn writer \"%120A\" x )\n"]
          }
,
          {
           "cell_type": "markdown",
           "metadata": {},
           
           "source": ["# HTML Parser\n",
"\n",
"[View this documentation in a .NET Interactive notebook ![Binder](https://mybinder.org/badge_logo.svg)](https://mybinder.org/v2/gh/fsprojects/FSharp.Data/gh-pages?filepath=library/HtmlParser.ipynb)\n",
"\n",
"This article demonstrates how to use the HTML Parser to parse HTML files.\n",
"\n",
"The HTML parser takes any fragment of HTML, uri or a stream and trys to parse it into a DOM. \n",
"The parser is based on the [HTML Living Standard](http://www.whatwg.org/specs/web-apps/current-work/multipage/index.html#contents)\n",
"Once a document/fragment has been parsed, a set of extension methods over the HTML DOM elements allow you to extract information from a web page\n",
"independently of the actual HTML Type provider.\n"]
          }
,
          {
           "cell_type": "code",
           "metadata": {},
            "execution_count": 2, "outputs": [], 
           "source": ["open FSharp.Data\n"]
          }
,
          {
           "cell_type": "markdown",
           "metadata": {},
           
           "source": ["The following example uses Google to search for `FSharp.Data` then parses the first set of\n",
"search results from the page, extracting the URL and Title of the link.\n",
"\n",
"To achieve this we must first parse the webpage into our DOM. We can do this using\n",
"the `HtmlDocument.Load` method. This method will take a URL and make a synchronous web call\n",
"to extract the data from the page. Note: an asynchronous variant `HtmlDocument.AsyncLoad` is also available  \n"]
          }
,
          {
           "cell_type": "code",
           "metadata": {},
            "execution_count": 3, "outputs": [], 
           "source": ["let results = HtmlDocument.Load(\"http://www.google.co.uk/search?q=FSharp.Data\")\n"]
          }
,
          {
           "cell_type": "markdown",
           "metadata": {},
           
           "source": ["Now that we have a loaded HTML document we can begin to extract data from it. \n",
"Firstly we want to extract all of the anchor tags `a` out of the document, then\n",
"inspect the links to see if it has a `href` attribute. If it does, extract the value,\n",
"which in this case is the url that the search result is pointing to, and additionally the \n",
"`InnerText` of the anchor tag to provide the name of the web page for the search result\n",
"we are looking at. \n"]
          }
,
          {
           "cell_type": "code",
           "metadata": {},
            "execution_count": 4, "outputs": [], 
           "source": ["let links = \n",
"    results.Descendants [\"a\"]\n",
"    |\u003e Seq.choose (fun x -\u003e \n",
"           x.TryGetAttribute(\"href\")\n",
"           |\u003e Option.map (fun a -\u003e x.InnerText(), a.Value())\n",
"    )\n",
"    |\u003e Seq.toList\n"]
          }
,
          {
           "cell_type": "markdown",
           "metadata": {},
           
           "source": ["Now that we have extracted our search results you will notice that there are lots of\n",
"other links to various Google services and cached/similar results. Ideally we would \n",
"like to filter these results as we are probably not interested in them.\n",
"At this point we simply have a sequence of Tuples, so F# makes this trivial using `Seq.filter`\n",
"and `Seq.map`.\n"]
          }
,
          {
           "cell_type": "code",
           "metadata": {},
            "execution_count": 5, "outputs": [], 
           "source": ["let searchResults =\n",
"    links\n",
"    |\u003e List.filter (fun (name, url) -\u003e \n",
"                    name \u003c\u003e \"Cached\" \u0026\u0026 name \u003c\u003e \"Similar\" \u0026\u0026 url.StartsWith(\"/url?\"))\n",
"    |\u003e List.map (fun (name, url) -\u003e name, url.Substring(0, url.IndexOf(\"\u0026sa=\")).Replace(\"/url?q=\", \"\"))\n"]
          }
,
          {
           "cell_type": "markdown",
           "metadata": {},
           
           "source": ["Putting this all together yields the following:\n",
"```\n",
"[(\"fsprojects/FSharp.Data: F# Data: Library for Data Access - GitHubgithub.com › fsharp › FSharp\",\n",
"  \"https://github.com/fsharp/FSharp.Data\");\n",
" (\"FSharp.Data: Data Access Made Simple - F# Projectsfsprojects.github.io › FSharp\",\n",
"  \"http://fsprojects.github.io/FSharp.Data/\");\n",
" (\"FSharp.Data.TypeProvidersfsprojects.github.io › FSharp.Data.TypeProviders\",\n",
"  \"https://fsprojects.github.io/FSharp.Data.TypeProviders/\");\n",
" (\"FSharp.Data 3.3.3 - NuGet Gallerywww.nuget.org › packages › FSharp\",\n",
"  \"https://www.nuget.org/packages/FSharp.Data\");\n",
" (\"Guide - Data Access | The F# Software Foundationfsharp.org › guides › data-access\",\n",
"  \"https://fsharp.org/guides/data-access/\");\n",
" (\"Guide - Data Science | The F# Software Foundationfsharp.org › guides › data-science\",\n",
"  \"https://fsharp.org/guides/data-science/\");\n",
" (\"Working with data frames in F# - FsLabfslab.org › Deedle › frame\",\n",
"  \"https://fslab.org/Deedle/frame.html\");\n",
" (\"Using F# for rapid data analysis | Compositional ITwww.compositional-it.com › news-blog › using-f-for-rapid-data-analysis\",\n",
"  \"https://www.compositional-it.com/news-blog/using-f-for-rapid-data-analysis/\");\n",
" (\"Extracting data from websites with F# - Mark\u0027s Blogmallibone.com › post › ral-colour-table-with-fsharp\",\n",
"  \"https://mallibone.com/post/ral-colour-table-with-fsharp\");\n",
" (\"is not defined (open Microsoft.FSharp.Data ... - Stack Overflowstackoverflow.com › questions › the-namespace-typeproviders-is-not-defin...\",\n",
"  \"https://stackoverflow.com/questions/24066844/the-namespace-typeproviders-is-not-defined-open-microsoft-fsharp-data-typepro\");\n",
" (\"Learn more\",\n",
"  \"http://support.google.com/websearch%3Fp%3Dws_settings_location%26hl%3Den\");\n",
" (\"Sign in\",\n",
"  \"https://accounts.google.com/ServiceLogin%3Fcontinue%3Dhttp://www.google.co.uk/search%253Fq%253DFSharp.Data%26hl%3Den\")]\n",
"```\n",
"\n"]
          }],
            "metadata": {
            "kernelspec": {"display_name": ".NET (F#)", "language": "F#", "name": ".net-fsharp"},
            "langauge_info": {
        "file_extension": ".fs",
        "mimetype": "text/x-fsharp",
        "name": "C#",
        "pygments_lexer": "fsharp",
        "version": "4.5"
        }
        },
            "nbformat": 4,
            "nbformat_minor": 1
        }
        

